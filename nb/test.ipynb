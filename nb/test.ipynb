{
 "cells": [
  {
   "cell_type": "code",
   "execution_count": 1,
   "id": "5cb64266",
   "metadata": {},
   "outputs": [
    {
     "name": "stderr",
     "output_type": "stream",
     "text": [
      "[non-fatal] Tracing client error 401: {\n",
      "  \"error\": {\n",
      "    \"message\": \"Incorrect API key provided: 4h3ubY7f************************************************************************WtFp. You can find your API key at https://platform.openai.com/account/api-keys.\",\n",
      "    \"type\": \"invalid_request_error\",\n",
      "    \"param\": null,\n",
      "    \"code\": \"invalid_api_key\"\n",
      "  }\n",
      "}\n"
     ]
    }
   ],
   "source": [
    "from openai import AsyncAzureOpenAI\n",
    "from agents import Agent, HandoffInputData, Runner, function_tool, handoff, trace, set_default_openai_client, set_tracing_disabled, OpenAIChatCompletionsModel, set_tracing_export_api_key, add_trace_processor\n",
    "from agents.tracing.processors import ConsoleSpanExporter, BatchTraceProcessor\n",
    "from agents.extensions import handoff_filters\n",
    "from agents import set_default_openai_client\n",
    "from dotenv import load_dotenv\n",
    "import os\n",
    "\n",
    "# Load environment variables\n",
    "load_dotenv()\n",
    "# Create OpenAI client using Azure OpenAI\n",
    "openai_client = AsyncAzureOpenAI(\n",
    "    api_key=os.getenv(\"AZURE_OPENAI_API_KEY\"),\n",
    "    api_version=os.getenv(\"AZURE_OPENAI_API_VERSION\"),\n",
    "    azure_endpoint=os.getenv(\"AZURE_OPENAI_ENDPOINT\"),\n",
    "    azure_deployment=os.getenv(\"AZURE_OPENAI_DEPLOYMENT_NAME\"),\n",
    ")\n",
    "\n",
    "# Set the default OpenAI client for the Agents SDK\n",
    "set_default_openai_client(openai_client)"
   ]
  },
  {
   "cell_type": "code",
   "execution_count": 2,
   "id": "18530e83",
   "metadata": {},
   "outputs": [
    {
     "data": {
      "text/plain": [
       "'gpt-4o'"
      ]
     },
     "execution_count": 2,
     "metadata": {},
     "output_type": "execute_result"
    }
   ],
   "source": [
    "os.getenv(\"AZURE_OPENAI_DEPLOYMENT_NAME\")"
   ]
  },
  {
   "cell_type": "code",
   "execution_count": 3,
   "id": "60bbdc87",
   "metadata": {},
   "outputs": [],
   "source": [
    "@function_tool\n",
    "def check_account_balance(account_id: str) -> float:\n",
    "    \"\"\"Check the balance of a bank account.\"\"\"\n",
    "    # This is a mock function - in a real application, this would query a database\n",
    "    balances = {\n",
    "        \"1234\": 5432.10,\n",
    "        \"5678\": 10245.33,\n",
    "        \"9012\": 750.25,\n",
    "        \"default\": 1000.00\n",
    "    }\n",
    "    return balances.get(account_id, balances[\"default\"])"
   ]
  },
  {
   "cell_type": "code",
   "execution_count": 4,
   "id": "1d17e887",
   "metadata": {},
   "outputs": [],
   "source": [
    "@function_tool\n",
    "def calculate_loan_payment(principal: float, interest_rate: float, years: int) -> float:\n",
    "    \"\"\"Calculate monthly payment for a loan.\"\"\"\n",
    "    # Convert annual interest rate to monthly rate and convert years to months\n",
    "    monthly_rate = interest_rate / 100 / 12\n",
    "    months = years * 12\n",
    "    \n",
    "    # Calculate monthly payment using the loan payment formula\n",
    "    if monthly_rate == 0:\n",
    "        return principal / months\n",
    "    else:\n",
    "        return principal * monthly_rate * (1 + monthly_rate) ** months / ((1 + monthly_rate) ** months - 1)\n",
    "\n",
    "\n",
    "@function_tool\n",
    "def calculate_investment_return(principal: float, annual_return_rate: float, years: int) -> float:\n",
    "    \"\"\"Calculate the future value of an investment.\"\"\"\n",
    "    # Simple compound interest calculation\n",
    "    return principal * (1 + annual_return_rate / 100) ** years\n",
    "\n",
    "\n",
    "def banking_handoff_message_filter(handoff_message_data: HandoffInputData) -> HandoffInputData:\n",
    "    # Remove any tool-related messages from the message history\n",
    "    handoff_message_data = handoff_filters.remove_all_tools(handoff_message_data)\n",
    "    \n",
    "    # Keep the full conversation history for the banking specialist\n",
    "    return handoff_message_data\n",
    "\n",
    "\n",
    "# Banking-themed agents\n",
    "general_agent = Agent(\n",
    "    name=\"Banking Assistant\",\n",
    "    instructions=\"You are a helpful banking assistant. Be concise and professional.\",\n",
    "    model=OpenAIChatCompletionsModel(\n",
    "        model=\"gpt-4o\",\n",
    "        openai_client=openai_client\n",
    "    ),\n",
    "    tools=[check_account_balance],\n",
    ")\n",
    "\n",
    "loan_specialist_agent = Agent(\n",
    "    name=\"Loan Specialist\",\n",
    "    instructions=\"\"\"You are a loan specialist at a bank. \n",
    "    Focus on helping customers understand loan options, calculate payments, and assess affordability.\n",
    "    Always ask for income information to provide personalized advice.\n",
    "    Be professional, thorough, and explain financial terms clearly.\"\"\",\n",
    "    model=OpenAIChatCompletionsModel(\n",
    "        model=\"gpt-4o\",\n",
    "        openai_client=openai_client\n",
    "    ),\n",
    "    tools=[calculate_loan_payment],\n",
    ")\n",
    "\n",
    "investment_specialist_agent = Agent(\n",
    "    name=\"Investment Specialist\",\n",
    "    instructions=\"\"\"You are an investment specialist at a bank.\n",
    "    Help customers understand investment options, risk profiles, and portfolio diversification.\n",
    "    Always consider the customer's financial goals and risk tolerance.\n",
    "    Be professional and explain investment concepts in clear terms.\"\"\",\n",
    "    model=OpenAIChatCompletionsModel(\n",
    "        model=\"gpt-4o\",\n",
    "        openai_client=openai_client\n",
    "    ),\n",
    "    tools=[calculate_investment_return],\n",
    ")\n",
    "\n",
    "customer_service_agent = Agent(\n",
    "    name=\"Customer Service Agent\",\n",
    "    instructions=\"\"\"You are a customer service agent at a bank.\n",
    "    Help customers with general inquiries and direct them to specialists when needed.\n",
    "    If the customer asks about loans or mortgages, handoff to the Loan Specialist.\n",
    "    If the customer asks about investments or portfolio management, handoff to the Investment Specialist.\n",
    "    Be professional, friendly, and helpful.\"\"\",\n",
    "    model=OpenAIChatCompletionsModel(\n",
    "        model=\"gpt-4o\",\n",
    "        openai_client=openai_client\n",
    "    ),\n",
    "    handoffs=[\n",
    "        handoff(loan_specialist_agent, input_filter=banking_handoff_message_filter),\n",
    "        handoff(investment_specialist_agent, input_filter=banking_handoff_message_filter),\n",
    "    ],\n",
    "    tools=[check_account_balance],\n",
    ")\n"
   ]
  },
  {
   "cell_type": "code",
   "execution_count": 5,
   "id": "a8d1a73d",
   "metadata": {},
   "outputs": [
    {
     "name": "stdout",
     "output_type": "stream",
     "text": [
      "Step 1: Initial greeting\n",
      "\n",
      "Response: Could you please provide your account ID so I can assist you in checking your account balance?\n",
      "\n"
     ]
    }
   ],
   "source": [
    "print(\"Step 1: Initial greeting\")\n",
    "result = await Runner.run(general_agent, input=\"Hi, I'd like to check my account balance.\")\n",
    "print(f\"\\nResponse: {result.final_output}\\n\")"
   ]
  },
  {
   "cell_type": "code",
   "execution_count": null,
   "id": "4a69ce8c",
   "metadata": {},
   "outputs": [],
   "source": []
  }
 ],
 "metadata": {
  "kernelspec": {
   "display_name": ".venv (3.11.12)",
   "language": "python",
   "name": "python3"
  },
  "language_info": {
   "codemirror_mode": {
    "name": "ipython",
    "version": 3
   },
   "file_extension": ".py",
   "mimetype": "text/x-python",
   "name": "python",
   "nbconvert_exporter": "python",
   "pygments_lexer": "ipython3",
   "version": "3.11.12"
  }
 },
 "nbformat": 4,
 "nbformat_minor": 5
}
